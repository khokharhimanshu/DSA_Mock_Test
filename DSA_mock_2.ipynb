{
 "cells": [
  {
   "cell_type": "markdown",
   "id": "9967c175-5517-4708-84bc-e241b70062d4",
   "metadata": {},
   "source": [
    "# DSA Mock Test 2"
   ]
  },
  {
   "cell_type": "raw",
   "id": "5976c504-a9ef-4575-8bf4-d0d9f877fbe5",
   "metadata": {},
   "source": [
    "Question 1:\n",
    "Implement a stack using a list in Python. Include the necessary methods such as push, pop, and isEmpty."
   ]
  },
  {
   "cell_type": "code",
   "execution_count": 1,
   "id": "711c8e34-daf5-4f29-890a-7238bc4bae29",
   "metadata": {},
   "outputs": [
    {
     "name": "stdout",
     "output_type": "stream",
     "text": [
      "3\n",
      "2\n",
      "False\n",
      "1\n",
      "True\n",
      "None\n"
     ]
    }
   ],
   "source": [
    "class Stack:\n",
    "    def __init__(self):\n",
    "        self.stack = []\n",
    "\n",
    "    def push(self, item):\n",
    "        self.stack.append(item)  \n",
    "\n",
    "    def pop(self):\n",
    "        if not self.isEmpty():\n",
    "            return self.stack.pop()  \n",
    "        else:\n",
    "            return None  \n",
    "\n",
    "    def isEmpty(self):\n",
    "        return len(self.stack) == 0  \n",
    "\n",
    "stack = Stack()  \n",
    "\n",
    "stack.push(1)\n",
    "stack.push(2)\n",
    "stack.push(3)\n",
    "\n",
    "print(stack.pop())  \n",
    "print(stack.pop())  \n",
    "print(stack.isEmpty())  \n",
    "print(stack.pop())  \n",
    "print(stack.isEmpty())  \n",
    "print(stack.pop())  "
   ]
  },
  {
   "cell_type": "raw",
   "id": "59724b58-452c-4011-aebe-544cf8bcff0b",
   "metadata": {},
   "source": [
    "Question 2:\n",
    "Implement a queue using a list in Python. Include the necessary methods such as enqueue, dequeue, and isEmpty."
   ]
  },
  {
   "cell_type": "code",
   "execution_count": null,
   "id": "86897eb0-723a-43eb-bce7-6b9711673175",
   "metadata": {},
   "outputs": [],
   "source": [
    "class Queue:\n",
    "    def __init__(self):\n",
    "        self.queue = []  # Initializing an empty list as the queue\n",
    "\n",
    "    def enqueue(self, item):\n",
    "        self.queue.append(item)  # Adding an item to the rear of the queue\n",
    "\n",
    "    def dequeue(self):\n",
    "        if not self.isEmpty():\n",
    "            return self.queue.pop(0)  # Removing and returning the front item from the queue\n",
    "        else:\n",
    "            return None  \n",
    "\n",
    "    def isEmpty(self):\n",
    "        return len(self.queue) == 0  \n",
    "\n",
    "queue = Queue()  \n",
    "\n",
    "queue.enqueue(1)\n",
    "queue.enqueue(2)\n",
    "queue.enqueue(3)\n",
    "\n",
    "print(queue.dequeue())  \n",
    "print(queue.dequeue())  \n",
    "print(queue.isEmpty())  \n",
    "print(queue.dequeue())  \n",
    "print(queue.isEmpty())  \n",
    "print(queue.dequeue())  "
   ]
  }
 ],
 "metadata": {
  "kernelspec": {
   "display_name": "Python 3 (ipykernel)",
   "language": "python",
   "name": "python3"
  },
  "language_info": {
   "codemirror_mode": {
    "name": "ipython",
    "version": 3
   },
   "file_extension": ".py",
   "mimetype": "text/x-python",
   "name": "python",
   "nbconvert_exporter": "python",
   "pygments_lexer": "ipython3",
   "version": "3.10.6"
  }
 },
 "nbformat": 4,
 "nbformat_minor": 5
}
